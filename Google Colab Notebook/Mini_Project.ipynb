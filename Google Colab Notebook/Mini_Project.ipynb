{
  "nbformat": 4,
  "nbformat_minor": 0,
  "metadata": {
    "colab": {
      "name": "Mini-Project.ipynb",
      "provenance": [],
      "collapsed_sections": []
    },
    "kernelspec": {
      "name": "python3",
      "display_name": "Python 3"
    }
  },
  "cells": [
    {
      "cell_type": "code",
      "metadata": {
        "id": "8BunJ4HpjR7Z",
        "outputId": "f65c86da-8b69-41cb-8743-69d284c2eaa7",
        "colab": {
          "base_uri": "https://localhost:8080/",
          "height": 84
        }
      },
      "source": [
        "!pip install bing-image-downloader"
      ],
      "execution_count": 1,
      "outputs": [
        {
          "output_type": "stream",
          "text": [
            "Collecting bing-image-downloader\n",
            "  Downloading https://files.pythonhosted.org/packages/0d/bf/537a61030b84ae4cd5022d5c7b014fd9bc3ce7c02358919153a6658a61d3/bing_image_downloader-1.0.4-py3-none-any.whl\n",
            "Installing collected packages: bing-image-downloader\n",
            "Successfully installed bing-image-downloader-1.0.4\n"
          ],
          "name": "stdout"
        }
      ]
    },
    {
      "cell_type": "code",
      "metadata": {
        "id": "vUWzzkITjddy"
      },
      "source": [
        "import bing_image_downloader"
      ],
      "execution_count": 2,
      "outputs": []
    },
    {
      "cell_type": "code",
      "metadata": {
        "id": "tGv-winBjgcM"
      },
      "source": [
        "!mkdir images"
      ],
      "execution_count": 3,
      "outputs": []
    },
    {
      "cell_type": "code",
      "metadata": {
        "id": "nTpBNe4JjjJY",
        "outputId": "b54b6878-a3ce-4d97-acac-173a7ed9a342",
        "colab": {
          "base_uri": "https://localhost:8080/",
          "height": 1000
        }
      },
      "source": [
        "from bing_image_downloader import downloader\n",
        "downloader.download('Cats', limit=21,  output_dir='images', adult_filter_off=True, force_replace=False, timeout=60)"
      ],
      "execution_count": 4,
      "outputs": [
        {
          "output_type": "stream",
          "text": [
            "\n",
            "\n",
            "[!!]Indexing page: 1\n",
            "\n",
            "[%] Indexed 21 Images on Page 1.\n",
            "\n",
            "===============================================\n",
            "\n",
            "[%] Downloading Image #1 from https://d.newsweek.com/en/full/1583795/coronavirus-us.jpg\n",
            "[%] File Downloaded !\n",
            "\n",
            "[%] Downloading Image #2 from https://specials-images.forbesimg.com/imageserve/465052997/960x0.jpg?fit=scale\n",
            "[%] File Downloaded !\n",
            "\n",
            "[%] Downloading Image #3 from https://s30886.pcdn.co/wp-content/uploads/2019/03/cats.jpg\n",
            "[%] File Downloaded !\n",
            "\n",
            "[%] Downloading Image #4 from http://cdn.themindcircle.com/wp-content/uploads/2016/02/cats-Fur-Markings-4.jpg\n",
            "[%] File Downloaded !\n",
            "\n",
            "[%] Downloading Image #5 from http://d.ibtimes.co.uk/en/full/1457779/cats-dont-need-owners.jpg\n",
            "[%] File Downloaded !\n",
            "\n",
            "[%] Downloading Image #6 from https://i.ytimg.com/vi/XLFqNc0_Dp8/maxresdefault.jpg\n",
            "[%] File Downloaded !\n",
            "\n",
            "[%] Downloading Image #7 from https://www.rd.com/wp-content/uploads/2020/03/GettyImages-1128004359.jpg\n",
            "[%] File Downloaded !\n",
            "\n",
            "[%] Downloading Image #8 from https://www.catster.com/wp-content/uploads/2015/08/catster-cats-with-boots-fluffy-paws.jpg\n",
            "[%] File Downloaded !\n",
            "\n",
            "[%] Downloading Image #9 from http://2.bp.blogspot.com/-BZHcOcjDvbw/UfJaayVQzZI/AAAAAAAARlE/7YNDhxACDRM/s1600/Beautiful+Cats+Hd+Wallpapers+2013+11.jpg\n",
            "[%] File Downloaded !\n",
            "\n",
            "[%] Downloading Image #10 from http://www.zastavki.com/pictures/originals/2013/Animals___Cats_Silver_beautiful_Scottish_Fold_cat_045199_.jpg\n",
            "[%] File Downloaded !\n",
            "\n",
            "[%] Downloading Image #11 from http://img.thrfun.com/img/078/743/two_cats_l1.jpg\n",
            "[%] File Downloaded !\n",
            "\n",
            "[%] Downloading Image #12 from https://www.doozylist.com/wp-content/uploads/2017/09/34-Adorable-Cats-and-Kittens-31.jpg\n",
            "[%] File Downloaded !\n",
            "\n",
            "[%] Downloading Image #13 from http://www.kickvick.com/wp-content/uploads/2015/10/cats-breach-personal-space-a-35.jpg\n",
            "[%] File Downloaded !\n",
            "\n",
            "[%] Downloading Image #14 from https://www.top13.net/wp-content/uploads/2017/01/cats-in-boxes-04.jpg\n",
            "[%] File Downloaded !\n",
            "\n",
            "[%] Downloading Image #15 from https://d17fnq9dkz9hgj.cloudfront.net/uploads/2019/01/How-long-are-cats-pregnant.png\n",
            "[%] File Downloaded !\n",
            "\n",
            "[%] Downloading Image #16 from http://www.kickvick.com/wp-content/uploads/2014/07/funny-cats.jpg\n",
            "[%] File Downloaded !\n",
            "\n",
            "[%] Downloading Image #17 from https://cms.qz.com/wp-content/uploads/2016/09/catscolonizedbyboat.jpg?quality=75&amp;strip=all&amp;w=410&amp;h=231\n",
            "[%] File Downloaded !\n",
            "\n",
            "[%] Downloading Image #18 from https://www.viralhumans.com/wp-content/uploads/2016/12/1480962831_maxresdefault.jpg\n",
            "[%] File Downloaded !\n",
            "\n",
            "[%] Downloading Image #19 from http://www.pagolmon.com/wp-content/uploads/2017/06/petfinder-ct-cats-1.jpg\n",
            "[%] File Downloaded !\n",
            "\n",
            "[%] Downloading Image #20 from http://victorianfarmfainters.com/wp-content/uploads/2016/09/IMG_1818.jpg\n",
            "[%] File Downloaded !\n",
            "\n",
            "[%] Downloading Image #21 from http://www.cheatsheet.com/wp-content/uploads/2017/03/Birman-cats.jpg\n",
            "[%] File Downloaded !\n",
            "\n"
          ],
          "name": "stdout"
        }
      ]
    },
    {
      "cell_type": "code",
      "metadata": {
        "id": "Wpn3Gb_fjvSX",
        "outputId": "601471f1-2407-46c3-87da-4061ffc28f44",
        "colab": {
          "base_uri": "https://localhost:8080/",
          "height": 1000
        }
      },
      "source": [
        "from bing_image_downloader import downloader\n",
        "downloader.download('Dogs', limit=25,  output_dir='images', adult_filter_off=True, force_replace=False, timeout=60)"
      ],
      "execution_count": 5,
      "outputs": [
        {
          "output_type": "stream",
          "text": [
            "\n",
            "\n",
            "[!!]Indexing page: 1\n",
            "\n",
            "[%] Indexed 25 Images on Page 1.\n",
            "\n",
            "===============================================\n",
            "\n",
            "[%] Downloading Image #1 from https://www.guidedogs.org/wp-content/uploads/2018/01/Mobile.jpg\n",
            "[%] File Downloaded !\n",
            "\n",
            "[%] Downloading Image #2 from https://abbeyrosefoundation.org/wp-content/uploads/2013/02/Golden-Retriever.jpg\n",
            "[%] File Downloaded !\n",
            "\n",
            "[%] Downloading Image #3 from https://bigfluffydogs.com/wp-content/uploads/2018/03/Owen-1.jpg\n",
            "[%] File Downloaded !\n",
            "\n",
            "[%] Downloading Image #4 from http://www.luckygoldenretriever.com/wp-content/uploads/2016/12/Cleaning_Your_Dogs_Ears.jpg\n",
            "[%] File Downloaded !\n",
            "\n",
            "[%] Downloading Image #5 from https://cdn1.medicalnewstoday.com/content/images/hero/326/326253/326253_1100.jpg\n",
            "[!] Issue getting: https://cdn1.medicalnewstoday.com/content/images/hero/326/326253/326253_1100.jpg\n",
            "[!] Error:: <urlopen error [Errno -2] Name or service not known>\n",
            "[%] Downloading Image #5 from https://whatson.ae/dubai/wp-content/uploads/2017/01/dogs-dubai.jpg\n",
            "[%] File Downloaded !\n",
            "\n",
            "[%] Downloading Image #6 from https://www.saratogaspine.com/wp-content/uploads/2019/02/37082394_2043783159030514_7320819438758920192_o1.jpg\n",
            "[%] File Downloaded !\n",
            "\n",
            "[%] Downloading Image #7 from http://r.ddmcdn.com/s_f/o_1/w_682/h_1024/APL/uploads/2014/12/pets-dogs.jpg\n",
            "[%] File Downloaded !\n",
            "\n",
            "[%] Downloading Image #8 from http://www.cutenessoverflow.com/wp-content/uploads/2014/06/adorable-dogs-8.jpg\n",
            "[%] File Downloaded !\n",
            "\n",
            "[%] Downloading Image #9 from http://cdn.hiconsumption.com/wp-content/uploads/2017/03/Viszla-Best-Hiking-Dogs.jpg\n",
            "[%] File Downloaded !\n",
            "\n",
            "[%] Downloading Image #10 from https://pethealthnetwork.com/sites/default/files/content/images/why-do-dogs-eat-grass-1-497550293.jpg\n",
            "[%] File Downloaded !\n",
            "\n",
            "[%] Downloading Image #11 from https://dogs.pedigreeonline.com/images/open-graph/dog-pedigree.jpg\n",
            "[%] File Downloaded !\n",
            "\n",
            "[%] Downloading Image #12 from https://bigfluffydogs.com/wp-content/uploads/2018/03/Catriona-1.jpg\n",
            "[%] File Downloaded !\n",
            "\n",
            "[%] Downloading Image #13 from https://www.petpaw.com.au/wp-content/uploads/2013/02/Dachshund1.jpg\n",
            "[%] File Downloaded !\n",
            "\n",
            "[%] Downloading Image #14 from https://www.thepetscentral.com/wp-content/uploads/2012/10/Different-Types-of-Dogs-for-Kids.jpg\n",
            "[%] File Downloaded !\n",
            "\n",
            "[%] Downloading Image #15 from https://bigfluffydogs.com/wp-content/uploads/2017/06/Nikki-1-1597x2400.jpg\n",
            "[%] File Downloaded !\n",
            "\n",
            "[%] Downloading Image #16 from http://dailynous.com/wp-content/uploads/2019/06/cute-dog-project-dogs-crop.png\n",
            "[%] File Downloaded !\n",
            "\n",
            "[%] Downloading Image #17 from https://www.pethealthnetwork.com/sites/default/files/content/images/rocky-mountain-spotted-fever-2-101176183.png\n",
            "[%] File Downloaded !\n",
            "\n",
            "[%] Downloading Image #18 from http://iheartdogs.com/wp-content/uploads/2015/12/dog-and-cat-friends.jpg\n",
            "[%] File Downloaded !\n",
            "\n",
            "[%] Downloading Image #19 from https://cdn.collider.com/wp-content/uploads/2017/01/a-dogs-purpose-social.jpg\n",
            "[%] File Downloaded !\n",
            "\n",
            "[%] Downloading Image #20 from https://www.wikihow.com/images/2/2b/Care-for-Dogs-Step-16-Version-3.jpg\n",
            "[%] File Downloaded !\n",
            "\n",
            "[%] Downloading Image #21 from https://www.nationaltrust.org.uk/images/1431730256107-dogspolesdenlacey.jpg\n",
            "[%] File Downloaded !\n",
            "\n",
            "[%] Downloading Image #22 from https://mymodernmet.com/wp/wp-content/uploads/2018/11/dogs-catching-treats-christian-vieler-13.jpg\n",
            "[%] File Downloaded !\n",
            "\n",
            "[%] Downloading Image #23 from https://www.pethealthnetwork.com/sites/default/files/content/images/feeding-senior-dogs-fb-183088275.jpg\n",
            "[%] File Downloaded !\n",
            "\n",
            "[%] Downloading Image #24 from https://www.dogvills.com/wp-content/uploads/2015/04/yorkshire-terrier-messy-small-hypoallergenic-dogs-699x1024.jpg\n",
            "[%] File Downloaded !\n",
            "\n",
            "\n",
            "\n",
            "[!!]Indexing page: 2\n",
            "\n",
            "[%] Indexed 35 Images on Page 2.\n",
            "\n",
            "===============================================\n",
            "\n",
            "[%] Downloading Image #25 from https://www.guidedogs.org/wp-content/uploads/2018/01/Mobile.jpg\n",
            "[%] File Downloaded !\n",
            "\n",
            "\n",
            "\n",
            "[%] Done. Downloaded 25 images.\n",
            "\n",
            "===============================================\n",
            "\n"
          ],
          "name": "stdout"
        }
      ]
    },
    {
      "cell_type": "code",
      "metadata": {
        "id": "oVuD8ckWj-RO",
        "outputId": "abe604a9-4238-431f-9222-f6b07e579852",
        "colab": {
          "base_uri": "https://localhost:8080/",
          "height": 34
        }
      },
      "source": [
        "import numpy as np\n",
        "from keras.preprocessing import image\n",
        "import cv2 as cv\n",
        "import matplotlib.pyplot as plt\n",
        "from pathlib import Path\n",
        "from sklearn.model_selection import GridSearchCV, train_test_split\n",
        "from skimage.io import imread\n",
        "print(\"Files imported successfully\")\n",
        "import pandas as pd\n",
        "import warnings\n",
        "warnings.filterwarnings('ignore')\n",
        "pd.set_option('display.max_columns', 30*30 + 1)"
      ],
      "execution_count": 6,
      "outputs": [
        {
          "output_type": "stream",
          "text": [
            "Files imported successfully\n"
          ],
          "name": "stdout"
        }
      ]
    },
    {
      "cell_type": "code",
      "metadata": {
        "id": "GS7v3nppkSuT",
        "outputId": "62f23553-4782-4b96-bcbc-e2a0234df6c8",
        "colab": {
          "base_uri": "https://localhost:8080/",
          "height": 218
        }
      },
      "source": [
        "def load_image_files(container_path, dimension=(64, 64)):\n",
        "    image_dir = Path(container_path)\n",
        "    folders = [directory for directory in image_dir.iterdir() if directory.is_dir()]\n",
        "    categories = [fo.name for fo in folders]\n",
        "\n",
        "    descr = \"A image classification dataset\"\n",
        "    images = []\n",
        "    flat_data = []\n",
        "    target = []\n",
        "    count = 0\n",
        "    train_img = []\n",
        "    for i, direc in enumerate(folders):\n",
        "        for file in direc.iterdir():\n",
        "            count += 1\n",
        "            img = imread(file)\n",
        "            img = cv.cvtColor(img, cv.COLOR_BGR2GRAY)\n",
        "            img_pred = cv.resize(img, (50, 50), interpolation=cv.INTER_AREA)\n",
        "            img_pred = image.img_to_array(img_pred)\n",
        "            img_pred = img_pred / 255\n",
        "            train_img.append(img_pred)\n",
        "\n",
        "    X = np.array(train_img)\n",
        "\n",
        "    return X\n",
        "\n",
        "X = []\n",
        "X = load_image_files(\"/content/images\")\n",
        "\n",
        "y0 = np.zeros(21)\n",
        "#2000 is the number of Cats in X\n",
        "y1 = np.ones(25)\n",
        "#2134 is the number of Dogs in X\n",
        "y = []\n",
        "y = np.concatenate((y0,y1), axis=0)\n",
        "X_train, X_test, y_train, y_test = train_test_split(X, y, random_state=42, test_size=0.2)\n",
        "X_val, X_test, y_val, y_test = train_test_split(X_test, y_test, random_state=42, test_size=0.5)\n",
        "print(\"X_train: \"+str(X_train.shape))\n",
        "print(\"X_test: \"+str(X_test.shape))\n",
        "print(\"X_val: \"+str(X_val.shape))\n",
        "print(\"y_train: \"+str(y_train.shape))\n",
        "print(\"y_test: \"+str(y_test.shape))\n",
        "print(\"y_val: \"+str(y_val.shape))\n",
        "\n",
        "from builtins import range\n",
        "from builtins import object\n",
        "\n",
        "num_training = X_train.shape[0]\n",
        "mask = list(range(num_training))\n",
        "X_train = X_train[mask]\n",
        "y_train = y_train[mask]\n",
        "\n",
        "num_test = X_test.shape[0]\n",
        "mask = list(range(num_test))\n",
        "X_test = X_test[mask]\n",
        "y_test = y_test[mask]\n",
        "\n",
        "num_val = X_val.shape[0]\n",
        "mask = list(range(num_val))\n",
        "X_val = X_val[mask]\n",
        "y_val = y_val[mask]\n",
        "\n",
        "# Reshape the image data into rows\n",
        "X_train = np.reshape(X_train, (X_train.shape[0], -1))\n",
        "X_test = np.reshape(X_test, (X_test.shape[0], -1))\n",
        "X_val = np.reshape(X_val, (X_val.shape[0], -1))\n",
        "\n",
        "print(\"X_train: \"+str(X_train.shape))\n",
        "print(\"X_test: \"+str(X_test.shape))\n",
        "print(\"X_val: \"+str(X_val.shape))\n",
        "print(\"y_train: \"+str(y_train.shape))\n",
        "print(\"y_test: \"+str(y_test.shape))\n",
        "print(\"y_val: \"+str(y_val.shape))"
      ],
      "execution_count": 7,
      "outputs": [
        {
          "output_type": "stream",
          "text": [
            "X_train: (36, 50, 50, 1)\n",
            "X_test: (5, 50, 50, 1)\n",
            "X_val: (5, 50, 50, 1)\n",
            "y_train: (36,)\n",
            "y_test: (5,)\n",
            "y_val: (5,)\n",
            "X_train: (36, 2500)\n",
            "X_test: (5, 2500)\n",
            "X_val: (5, 2500)\n",
            "y_train: (36,)\n",
            "y_test: (5,)\n",
            "y_val: (5,)\n"
          ],
          "name": "stdout"
        }
      ]
    },
    {
      "cell_type": "code",
      "metadata": {
        "id": "a37EdRJpkk2D"
      },
      "source": [
        "class KNearestNeighbor(object):\n",
        "    def __init__(self):\n",
        "        pass\n",
        "\n",
        "    def predict_label(self, dists, k=1):\n",
        "        num_test = dists.shape[0]\n",
        "        y_pred = np.zeros(num_test)\n",
        "        for i in range(num_test):\n",
        "            closest_y = []\n",
        "            closest_y = self.y_train[np.argsort(dists[i])][0:k]\n",
        "            y_pred[i] = np.bincount(closest_y).argmax()\n",
        "        return y_pred\n",
        "\n",
        "    def train(self, X, y):\n",
        "        self.X_train = X\n",
        "        self.y_train = y\n",
        "\n",
        "    def predict(self, X, k=1):\n",
        "        dists = self.compute_distances_no_loops(X)\n",
        "\n",
        "        return self.predict_labels(dists, k=k)\n",
        "\n",
        "    def compute_distances_no_loops(self, X):\n",
        "        num_test = X.shape[0]\n",
        "        num_train = self.X_train.shape[0]\n",
        "        dists = np.zeros((num_test, num_train))\n",
        "        dists = np.sqrt((X ** 2).sum(axis=1, keepdims=1) + (self.X_train ** 2).sum(axis=1) - 2 * X.dot(self.X_train.T))\n",
        "\n",
        "        return dists\n",
        "\n",
        "    def predict_labels(self, dists, k=1):\n",
        "        num_test = dists.shape[0]\n",
        "        y_pred = np.zeros(num_test)\n",
        "        for i in range(num_test):\n",
        "            # A list of length k storing the labels of the k nearest neighbors to\n",
        "            # the ith test point.\n",
        "            closest_y = []\n",
        "            closest_y = self.y_train[np.argsort(dists[i])][0:k]\n",
        "            closest_y = closest_y.astype(int)\n",
        "            y_pred[i] = np.bincount(closest_y).argmax()\n",
        "        return y_pred"
      ],
      "execution_count": 8,
      "outputs": []
    },
    {
      "cell_type": "code",
      "metadata": {
        "id": "V6Lx5j1-krtO",
        "outputId": "958996a2-d5e6-4e90-dc37-5a74edd3ec42",
        "colab": {
          "base_uri": "https://localhost:8080/",
          "height": 50
        }
      },
      "source": [
        "print(\"Val Accuracy for k=2\")\n",
        "classifier = KNearestNeighbor()\n",
        "classifier.train(X_train, y_train)\n",
        "dists = classifier.compute_distances_no_loops(X_val)\n",
        "y_val_pred = classifier.predict_labels(dists, k=2)\n",
        "num_correct = np.sum(y_val_pred == y_val)\n",
        "accuracy = float(num_correct) / num_val\n",
        "print('Got %d / %d correct => accuracy: %f' % (num_correct, num_val, accuracy))"
      ],
      "execution_count": 16,
      "outputs": [
        {
          "output_type": "stream",
          "text": [
            "Val Accuracy for k=2\n",
            "Got 3 / 5 correct => accuracy: 0.600000\n"
          ],
          "name": "stdout"
        }
      ]
    },
    {
      "cell_type": "code",
      "metadata": {
        "id": "6NBPNnI2k1n5",
        "outputId": "d171c364-350a-4b79-fd41-b54f85a722a5",
        "colab": {
          "base_uri": "https://localhost:8080/",
          "height": 298
        }
      },
      "source": [
        "print(\"Using SKLEARN\")\n",
        "lix = []\n",
        "liy = []\n",
        "index=0\n",
        "acc=0\n",
        "from sklearn.neighbors import KNeighborsClassifier\n",
        "for k in range(1, 37):\n",
        "    neigh = KNeighborsClassifier(n_neighbors=k)\n",
        "    neigh.fit(X_train, y_train)\n",
        "    liy.append(neigh.score(X_val, y_val))\n",
        "    if liy[k-1]>acc:\n",
        "        acc=liy[k-1]\n",
        "        index=k-1\n",
        "    lix.append(k)\n",
        "\n",
        "plt.plot(lix, liy)\n",
        "plt.show()\n",
        "print(\"max acc at k=\"+str(index+1)+\" acc of \"+str(acc))"
      ],
      "execution_count": 10,
      "outputs": [
        {
          "output_type": "stream",
          "text": [
            "Using SKLEARN\n"
          ],
          "name": "stdout"
        },
        {
          "output_type": "display_data",
          "data": {
            "image/png": "[encoded data removed]",
            "text/plain": [
              "<Figure size 432x288 with 1 Axes>"
            ]
          },
          "metadata": {
            "tags": [],
            "needs_background": "light"
          }
        },
        {
          "output_type": "stream",
          "text": [
            "max acc at k=2 acc of 0.6\n"
          ],
          "name": "stdout"
        }
      ]
    },
    {
      "cell_type": "code",
      "metadata": {
        "id": "rZ0ZpuhLk6A4",
        "outputId": "ae899475-10d8-4cdf-dcef-ef8b445112cf",
        "colab": {
          "base_uri": "https://localhost:8080/",
          "height": 67
        }
      },
      "source": [
        "neigh = KNeighborsClassifier(n_neighbors=1)\n",
        "neigh.fit(X_train, y_train)\n",
        "print(\"Test Accuracy: \"+str(neigh.score(X_test, y_test)))\n",
        "\n",
        "print(\"Using our own k-NN\")\n",
        "classifier = KNearestNeighbor()\n",
        "classifier.train(X_train, y_train)\n",
        "dists = classifier.compute_distances_no_loops(X_test)\n",
        "y_test_pred = classifier.predict_labels(dists, k=1)\n",
        "num_correct = np.sum(y_test_pred == y_test)\n",
        "accuracy = float(num_correct) / num_test\n",
        "print('With k = 1 Got %d / %d correct => accuracy: %f' % (num_correct, num_test, accuracy))"
      ],
      "execution_count": 30,
      "outputs": [
        {
          "output_type": "stream",
          "text": [
            "Test Accuracy: 0.6\n",
            "Using our own k-NN\n",
            "With k = 1 Got 3 / 5 correct => accuracy: 0.600000\n"
          ],
          "name": "stdout"
        }
      ]
    },
    {
      "cell_type": "code",
      "metadata": {
        "id": "Pe2kkAgSlqWt",
        "outputId": "5cd5f6f1-1201-466e-9e35-c43e7cf5a60d",
        "colab": {
          "base_uri": "https://localhost:8080/",
          "height": 50
        }
      },
      "source": [
        "print(\"Predicting custom image: 1\")\n",
        "img = cv.imread(\"/content/images/cat1.jpg\")\n",
        "img = cv.cvtColor(img, cv.COLOR_BGR2GRAY)\n",
        "img_pred = cv.resize(img, (50, 50), interpolation=cv.INTER_AREA)\n",
        "img_pred = image.img_to_array(img_pred)\n",
        "img_pred = img_pred/255\n",
        "img_pred = np.reshape(img_pred, (1, img_pred.shape[0]*img_pred.shape[1]))\n",
        "\n",
        "classifier2 = KNearestNeighbor()\n",
        "classifier2.train(X_train, y_train)\n",
        "# Test implementation:\n",
        "dists2 = classifier2.compute_distances_no_loops(img_pred)\n",
        "labels = [\"Cat\", \"Dog\"]\n",
        "y_test_pred = classifier2.predict_labels(dists2, k=1)\n",
        "print(labels[int(y_test_pred)])"
      ],
      "execution_count": 38,
      "outputs": [
        {
          "output_type": "stream",
          "text": [
            "Predicting custom image: 1\n",
            "Cat\n"
          ],
          "name": "stdout"
        }
      ]
    },
    {
      "cell_type": "code",
      "metadata": {
        "id": "tAa-rpzUl8BE",
        "outputId": "4aa19831-a142-4852-fc27-19829ee0590c",
        "colab": {
          "base_uri": "https://localhost:8080/",
          "height": 50
        }
      },
      "source": [
        "print(\"Predicting custom image: 2\")\n",
        "img = cv.imread(\"/content/images/cat2.jpg\")\n",
        "img = cv.cvtColor(img, cv.COLOR_BGR2GRAY)\n",
        "img_pred = cv.resize(img, (50, 50), interpolation=cv.INTER_AREA)\n",
        "img_pred = image.img_to_array(img_pred)\n",
        "img_pred = img_pred/255\n",
        "img_pred = np.reshape(img_pred, (1, img_pred.shape[0]*img_pred.shape[1]))\n",
        "\n",
        "classifier2 = KNearestNeighbor()\n",
        "classifier2.train(X_train, y_train)\n",
        "# Test implementation:\n",
        "dists2 = classifier2.compute_distances_no_loops(img_pred)\n",
        "labels = [\"Cat\", \"Dog\"]\n",
        "y_test_pred = classifier2.predict_labels(dists2, k=1)\n",
        "print(labels[int(y_test_pred)])"
      ],
      "execution_count": 37,
      "outputs": [
        {
          "output_type": "stream",
          "text": [
            "Predicting custom image: 2\n",
            "Cat\n"
          ],
          "name": "stdout"
        }
      ]
    },
    {
      "cell_type": "code",
      "metadata": {
        "id": "Hcs364FrnGcH",
        "outputId": "bd14269e-392a-4663-a31b-ad3269af9445",
        "colab": {
          "base_uri": "https://localhost:8080/",
          "height": 50
        }
      },
      "source": [
        "print(\"Predicting custom image: 3\")\n",
        "img = cv.imread(\"/content/images/dog1.jpg\")\n",
        "img = cv.cvtColor(img, cv.COLOR_BGR2GRAY)\n",
        "img_pred = cv.resize(img, (50, 50), interpolation=cv.INTER_AREA)\n",
        "img_pred = image.img_to_array(img_pred)\n",
        "img_pred = img_pred/255\n",
        "img_pred = np.reshape(img_pred, (1, img_pred.shape[0]*img_pred.shape[1]))\n",
        "\n",
        "classifier2 = KNearestNeighbor()\n",
        "classifier2.train(X_train, y_train)\n",
        "# Test your implementation:\n",
        "dists2 = classifier2.compute_distances_no_loops(img_pred)\n",
        "labels = [\"Cat\", \"Dog\"]\n",
        "y_test_pred = classifier2.predict_labels(dists2, k=1)\n",
        "print(labels[int(y_test_pred)])"
      ],
      "execution_count": 36,
      "outputs": [
        {
          "output_type": "stream",
          "text": [
            "Predicting custom image: 3\n",
            "Cat\n"
          ],
          "name": "stdout"
        }
      ]
    },
    {
      "cell_type": "code",
      "metadata": {
        "id": "xlQXRNRYoZg2",
        "outputId": "341d8e81-59f9-4312-89c9-08725b953d93",
        "colab": {
          "base_uri": "https://localhost:8080/",
          "height": 50
        }
      },
      "source": [
        "print(\"Predicting custom image: 4\")\n",
        "img = cv.imread(\"/content/images/dog2.jpg\")\n",
        "img = cv.cvtColor(img, cv.COLOR_BGR2GRAY)\n",
        "img_pred = cv.resize(img, (50, 50), interpolation=cv.INTER_AREA)\n",
        "img_pred = image.img_to_array(img_pred)\n",
        "img_pred = img_pred/255\n",
        "img_pred = np.reshape(img_pred, (1, img_pred.shape[0]*img_pred.shape[1]))\n",
        "\n",
        "classifier2 = KNearestNeighbor()\n",
        "classifier2.train(X_train, y_train)\n",
        "# Test your implementation:\n",
        "dists2 = classifier2.compute_distances_no_loops(img_pred)\n",
        "labels = [\"Cat\", \"Dog\"]\n",
        "y_test_pred = classifier2.predict_labels(dists2, k=1)\n",
        "print(labels[int(y_test_pred)])"
      ],
      "execution_count": 35,
      "outputs": [
        {
          "output_type": "stream",
          "text": [
            "Predicting custom image: 4\n",
            "Cat\n"
          ],
          "name": "stdout"
        }
      ]
    },
    {
      "cell_type": "code",
      "metadata": {
        "id": "-e5ilHlHpYQS",
        "outputId": "646f3d12-24a6-4d76-8218-dc61603cb673",
        "colab": {
          "base_uri": "https://localhost:8080/",
          "height": 50
        }
      },
      "source": [
        "print(\"Predicting custom image: 5\")\n",
        "img = cv.imread(\"/content/images/dog3.jpg\")\n",
        "img = cv.cvtColor(img, cv.COLOR_BGR2GRAY)\n",
        "img_pred = cv.resize(img, (50, 50), interpolation=cv.INTER_AREA)\n",
        "img_pred = image.img_to_array(img_pred)\n",
        "img_pred = img_pred/255\n",
        "img_pred = np.reshape(img_pred, (1, img_pred.shape[0]*img_pred.shape[1]))\n",
        "\n",
        "classifier2 = KNearestNeighbor()\n",
        "classifier2.train(X_train, y_train)\n",
        "# Test your implementation:\n",
        "dists2 = classifier2.compute_distances_no_loops(img_pred)\n",
        "labels = [\"Cat\", \"Dog\"]\n",
        "y_test_pred = classifier2.predict_labels(dists2, k=1)\n",
        "print(labels[int(y_test_pred)])"
      ],
      "execution_count": 28,
      "outputs": [
        {
          "output_type": "stream",
          "text": [
            "Predicting custom image: 5\n",
            "Dog\n"
          ],
          "name": "stdout"
        }
      ]
    },
    {
      "cell_type": "code",
      "metadata": {
        "id": "Kh5cqgmAqA_h"
      },
      "source": [
        "# I got 3 correct predictions out of 5"
      ],
      "execution_count": null,
      "outputs": []
    }
  ]
}