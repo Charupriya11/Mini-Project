{
  "nbformat": 4,
  "nbformat_minor": 0,
  "metadata": {
    "colab": {
      "name": "Mini project.ipynb",
      "provenance": []
    },
    "kernelspec": {
      "name": "python3",
      "display_name": "Python 3"
    }
  },
  "cells": [
    {
      "cell_type": "code",
      "metadata": {
        "id": "x722ZiBoHwV7",
        "outputId": "b29e74b8-c721-4e52-b58d-e4054a7b5007",
        "colab": {
          "base_uri": "https://localhost:8080/",
          "height": 104
        }
      },
      "source": [
        "!pip install bing-image-downloader"
      ],
      "execution_count": 1,
      "outputs": [
        {
          "output_type": "stream",
          "text": [
            "Collecting bing-image-downloader\n",
            "  Downloading https://files.pythonhosted.org/packages/0d/bf/537a61030b84ae4cd5022d5c7b014fd9bc3ce7c02358919153a6658a61d3/bing_image_downloader-1.0.4-py3-none-any.whl\n",
            "Installing collected packages: bing-image-downloader\n",
            "Successfully installed bing-image-downloader-1.0.4\n"
          ],
          "name": "stdout"
        }
      ]
    },
    {
      "cell_type": "code",
      "metadata": {
        "id": "TAJgAiEvITch"
      },
      "source": [
        "import bing_image_downloader"
      ],
      "execution_count": 2,
      "outputs": []
    },
    {
      "cell_type": "code",
      "metadata": {
        "id": "4s-iOVHcIeI9"
      },
      "source": [
        "!mkdir images"
      ],
      "execution_count": 3,
      "outputs": []
    },
    {
      "cell_type": "code",
      "metadata": {
        "id": "gR-_InTuiGOR",
        "outputId": "bfab90f9-b4e2-40d5-9c5d-8c1f886b6c54",
        "colab": {
          "base_uri": "https://localhost:8080/",
          "height": 1000
        }
      },
      "source": [
        "from bing_image_downloader import downloader\n",
        "downloader.download('Cats', limit=40,  output_dir='images', adult_filter_off=True, force_replace=False, timeout=60)"
      ],
      "execution_count": 4,
      "outputs": [
        {
          "output_type": "stream",
          "text": [
            "\n",
            "\n",
            "[!!]Indexing page: 1\n",
            "\n",
            "[%] Indexed 40 Images on Page 1.\n",
            "\n",
            "===============================================\n",
            "\n",
            "[%] Downloading Image #1 from https://cdn2.theweek.co.uk/sites/theweek/files/2017/11/131117-wd-cats.jpg\n",
            "[%] File Downloaded !\n",
            "\n",
            "[%] Downloading Image #2 from https://d.newsweek.com/en/full/1583795/coronavirus-us.jpg\n",
            "[%] File Downloaded !\n",
            "\n",
            "[%] Downloading Image #3 from http://www.adventurecats.org/wp-content/uploads/2015/03/manx.jpg\n",
            "[%] File Downloaded !\n",
            "\n",
            "[%] Downloading Image #4 from https://s-i.huffpost.com/gen/964776/images/o-CATS-KILL-BILLIONS-facebook.jpg\n",
            "[%] File Downloaded !\n",
            "\n",
            "[%] Downloading Image #5 from https://img.webmd.com/dtmcms/live/webmd/consumer_assets/site_images/article_thumbnails/reference_guide/why_cats_sneeze_ref_guide/1800x1200_why_cats_sneeze_ref_guide.jpg\n",
            "[%] File Downloaded !\n",
            "\n",
            "[%] Downloading Image #6 from http://www.topten.ph/wp-content/uploads/2016/04/Cats.jpg\n",
            "[%] File Downloaded !\n",
            "\n",
            "[%] Downloading Image #7 from https://specials-images.forbesimg.com/imageserve/465052997/960x0.jpg?fit=scale\n",
            "[%] File Downloaded !\n",
            "\n",
            "[%] Downloading Image #8 from http://www.aspca.org/sites/default/files/behavior-problems-older-cats.jpg\n",
            "[%] File Downloaded !\n",
            "\n",
            "[%] Downloading Image #9 from http://cdn.themindcircle.com/wp-content/uploads/2016/02/cats-Fur-Markings-4.jpg\n",
            "[%] File Downloaded !\n",
            "\n",
            "[%] Downloading Image #10 from https://s-i.huffpost.com/gen/839894/images/o-MARRIED-CATS-facebook.jpg\n",
            "[%] File Downloaded !\n",
            "\n",
            "[%] Downloading Image #11 from https://criticalcaredvm.com/wp-content/uploads/2016/02/Jabr-AreCatsDomesticated-1200.jpg\n",
            "[%] File Downloaded !\n",
            "\n",
            "[%] Downloading Image #12 from https://s30886.pcdn.co/wp-content/uploads/2019/03/cats.jpg\n",
            "[%] File Downloaded !\n",
            "\n",
            "[%] Downloading Image #13 from http://d.ibtimes.co.uk/en/full/1457779/cats-dont-need-owners.jpg\n",
            "[%] File Downloaded !\n",
            "\n",
            "[%] Downloading Image #14 from http://www.emdonenilodge.com/wp-content/gallery/cats/002.jpg\n",
            "[%] File Downloaded !\n",
            "\n",
            "[%] Downloading Image #15 from http://www.zastavki.com/pictures/originals/2013/Animals___Cats_Silver_beautiful_Scottish_Fold_cat_045199_.jpg\n",
            "[%] File Downloaded !\n",
            "\n",
            "[%] Downloading Image #16 from https://artbygabi.files.wordpress.com/2014/05/p1020667.jpg\n",
            "[%] File Downloaded !\n",
            "\n",
            "[%] Downloading Image #17 from http://4.bp.blogspot.com/--RBVfn6FzOI/Tq5kOxFGKEI/AAAAAAAACnM/LaiZLD0sUKY/s1600/cats.jpg\n",
            "[%] File Downloaded !\n",
            "\n",
            "[%] Downloading Image #18 from https://cms.qz.com/wp-content/uploads/2016/09/catscolonizedbyboat.jpg?quality=75&amp;strip=all&amp;w=1400\n",
            "[%] File Downloaded !\n",
            "\n",
            "[%] Downloading Image #19 from http://victorianfarmfainters.com/wp-content/uploads/2016/09/IMG_1818.jpg\n",
            "[%] File Downloaded !\n",
            "\n",
            "[%] Downloading Image #20 from http://www.catster.com/wp-content/uploads/2015/06/FIP-two-cats-15305707.jpg\n",
            "[%] File Downloaded !\n",
            "\n",
            "[%] Downloading Image #21 from http://mcdaniel.hu/wp-content/uploads/2015/01/6784063-cute-cats-hd.jpg\n",
            "[%] File Downloaded !\n",
            "\n",
            "[%] Downloading Image #22 from https://www.irishnews.com/picturesarchive/irishnews/irishnews/2017/08/07/175411749-6dd7c167-5596-4647-8a31-c357c13d2a19.jpg\n",
            "[%] File Downloaded !\n",
            "\n",
            "[%] Downloading Image #23 from https://www.catster.com/wp-content/uploads/2015/08/catster-cats-with-boots-fluffy-paws.jpg\n",
            "[%] File Downloaded !\n",
            "\n",
            "[%] Downloading Image #24 from https://catspurfection.com/wp-content/uploads/2018/10/cats-syndrome.jpg\n",
            "[%] File Downloaded !\n",
            "\n",
            "[%] Downloading Image #25 from http://www.cheatsheet.com/wp-content/uploads/2017/03/Birman-cats.jpg\n",
            "[%] File Downloaded !\n",
            "\n",
            "[%] Downloading Image #26 from https://www.safehavenforcats.org/wp-content/uploads/2019/06/March-Volunteer-Information-Session-Header-1080x640-1080x640.jpg\n",
            "[%] File Downloaded !\n",
            "\n",
            "[%] Downloading Image #27 from https://peopledotcom.files.wordpress.com/2019/05/300-cats-2.jpg\n",
            "[%] File Downloaded !\n",
            "\n",
            "[%] Downloading Image #28 from https://d17fnq9dkz9hgj.cloudfront.net/uploads/2019/01/How-long-are-cats-pregnant.png\n",
            "[%] File Downloaded !\n",
            "\n",
            "[%] Downloading Image #29 from http://glorioussiberians.com/wp-content/uploads/2012/11/4-wks_6.jpg\n",
            "[%] File Downloaded !\n",
            "\n",
            "[%] Downloading Image #30 from https://cdn.lolwot.com/wp-content/uploads/2015/06/20-of-the-funniest-cats-in-costumes-14.jpg\n",
            "[%] File Downloaded !\n",
            "\n",
            "[%] Downloading Image #31 from https://www.homeagain.com/static/images/articles/outdoor-cats-getting-lost.jpg\n",
            "[%] File Downloaded !\n",
            "\n",
            "[%] Downloading Image #32 from http://2.bp.blogspot.com/-BZHcOcjDvbw/UfJaayVQzZI/AAAAAAAARlE/7YNDhxACDRM/s1600/Beautiful+Cats+Hd+Wallpapers+2013+11.jpg\n",
            "[%] File Downloaded !\n",
            "\n",
            "[%] Downloading Image #33 from https://www.doozylist.com/wp-content/uploads/2017/09/34-Adorable-Cats-and-Kittens-31.jpg\n",
            "[%] File Downloaded !\n",
            "\n",
            "[%] Downloading Image #34 from https://factfile.org/wp-content/uploads/2015/11/Facts-about-Cats1.jpg\n",
            "[%] File Downloaded !\n",
            "\n",
            "[%] Downloading Image #35 from https://get.wallhere.com/photo/cat-animals-nature-open-mouth-wildlife-big-cats-whiskers-lynx-Puma-Ocelot-cougar-wild-cat-hairday-bobcat-fauna-mammal-vertebrate-close-up-cat-like-mammal-snout-small-to-medium-sized-cats-yawn-rusty-spotted-cat-105099.jpg\n",
            "[%] File Downloaded !\n",
            "\n",
            "[%] Downloading Image #36 from https://www.thehappycatsite.com/wp-content/uploads/2018/06/are-savannah-cats-hypoallergenic-860x1024.jpg\n",
            "[%] File Downloaded !\n",
            "\n",
            "[%] Downloading Image #37 from https://iheartcats.com/wp-content/uploads/2017/06/feral-1.jpg\n",
            "[%] File Downloaded !\n",
            "\n",
            "[%] Downloading Image #38 from https://cdn2-www.cattime.com/assets/uploads/2017/04/cats-better-human-jobs-2.jpg\n",
            "[%] File Downloaded !\n",
            "\n",
            "[%] Downloading Image #39 from https://www.pethealthnetwork.com/sites/default/files/content/images/demodicosis-cats-1-459310093.png\n",
            "[%] File Downloaded !\n",
            "\n",
            "[%] Downloading Image #40 from https://cityofmissionviejo.org/sites/default/files/Cats Stock Image.jpg\n",
            "[!] Issue getting: https://cityofmissionviejo.org/sites/default/files/Cats Stock Image.jpg\n",
            "[!] Error:: URL can't contain control characters. '/sites/default/files/Cats Stock Image.jpg' (found at least ' ')\n",
            "\n",
            "\n",
            "[!!]Indexing page: 2\n",
            "\n",
            "[%] Indexed 35 Images on Page 2.\n",
            "\n",
            "===============================================\n",
            "\n",
            "[%] Downloading Image #40 from https://cdn2.theweek.co.uk/sites/theweek/files/2017/11/131117-wd-cats.jpg\n",
            "[%] File Downloaded !\n",
            "\n",
            "\n",
            "\n",
            "[%] Done. Downloaded 40 images.\n",
            "\n",
            "===============================================\n",
            "\n"
          ],
          "name": "stdout"
        }
      ]
    },
    {
      "cell_type": "code",
      "metadata": {
        "id": "t-VLvjqoiLjv",
        "outputId": "33657f26-5aea-45d4-9605-6db4334f9d55",
        "colab": {
          "base_uri": "https://localhost:8080/",
          "height": 1000
        }
      },
      "source": [
        "from bing_image_downloader import downloader\n",
        "downloader.download('Dogs', limit=41,  output_dir='images', adult_filter_off=True, force_replace=False, timeout=60)"
      ],
      "execution_count": 5,
      "outputs": [
        {
          "output_type": "stream",
          "text": [
            "\n",
            "\n",
            "[!!]Indexing page: 1\n",
            "\n",
            "[%] Indexed 41 Images on Page 1.\n",
            "\n",
            "===============================================\n",
            "\n",
            "[%] Downloading Image #1 from https://bigfluffydogs.com/wp-content/uploads/2018/03/Owen-1.jpg\n",
            "[%] File Downloaded !\n",
            "\n",
            "[%] Downloading Image #2 from https://cdn01.vulcanpost.com/wp-uploads/2014/03/IMG_5908.jpg\n",
            "[%] File Downloaded !\n",
            "\n",
            "[%] Downloading Image #3 from https://bigfluffydogs.com/wp-content/uploads/2017/12/Clyde-3.jpg\n",
            "[%] File Downloaded !\n",
            "\n",
            "[%] Downloading Image #4 from https://www.rover.com/blog/wp-content/uploads/2014/12/reindeer-dogs.jpg\n",
            "[%] File Downloaded !\n",
            "\n",
            "[%] Downloading Image #5 from https://abbeyrosefoundation.org/wp-content/uploads/2013/02/Golden-Retriever.jpg\n",
            "[%] File Downloaded !\n",
            "\n",
            "[%] Downloading Image #6 from https://pmcvariety.files.wordpress.com/2017/01/a-dogs-purpose.jpg?w=1000\n",
            "[!] Issue getting: https://pmcvariety.files.wordpress.com/2017/01/a-dogs-purpose.jpg?w=1000\n",
            "[!] Error:: HTTP Error 403: Forbidden\n",
            "[%] Downloading Image #6 from http://www.luckygoldenretriever.com/wp-content/uploads/2016/12/Cleaning_Your_Dogs_Ears.jpg\n",
            "[%] File Downloaded !\n",
            "\n",
            "[%] Downloading Image #7 from https://bigfluffydogs.com/wp-content/uploads/2018/03/Catriona-1.jpg\n",
            "[%] File Downloaded !\n",
            "\n",
            "[%] Downloading Image #8 from https://whatson.ae/dubai/wp-content/uploads/2017/01/dogs-dubai.jpg\n",
            "[%] File Downloaded !\n",
            "\n",
            "[%] Downloading Image #9 from http://i.huffpost.com/gen/1151883/images/o-DOGS-ON-AMTRAK-facebook.jpg\n",
            "[%] File Downloaded !\n",
            "\n",
            "[%] Downloading Image #10 from https://media.salon.com/2019/02/dogs-playing.jpg\n",
            "[%] File Downloaded !\n",
            "\n",
            "[%] Downloading Image #11 from https://scx2.b-cdn.net/gfx/news/hires/2020/smalldogs.jpg\n",
            "[%] File Downloaded !\n",
            "\n",
            "[%] Downloading Image #12 from https://pixel.nymag.com/imgs/daily/vulture/2018/11/13/13-dogs.w700.h700.jpg\n",
            "[Error]Invalid image, not saving https://pixel.nymag.com/imgs/daily/vulture/2018/11/13/13-dogs.w700.h700.jpg\n",
            "\n",
            "[!] Issue getting: https://pixel.nymag.com/imgs/daily/vulture/2018/11/13/13-dogs.w700.h700.jpg\n",
            "[!] Error:: No active exception to reraise\n",
            "[%] Downloading Image #12 from http://cdn.hiconsumption.com/wp-content/uploads/2017/03/Viszla-Best-Hiking-Dogs.jpg\n",
            "[%] File Downloaded !\n",
            "\n",
            "[%] Downloading Image #13 from https://mymodernmet.com/wp/wp-content/uploads/2019/11/dogs-are-the-best-people-frog-dog-studios-17.jpg\n",
            "[%] File Downloaded !\n",
            "\n",
            "[%] Downloading Image #14 from https://www.thestar.com/content/dam/thestar/life/2013/08/09/dogs_find_owners_yawns_contagious/yawning_dog.jpg\n",
            "[%] File Downloaded !\n",
            "\n",
            "[%] Downloading Image #15 from https://i2-prod.mirror.co.uk/incoming/article6378483.ece/ALTERNATES/s1200/Guide-Dogs.jpg\n",
            "[%] File Downloaded !\n",
            "\n",
            "[%] Downloading Image #16 from http://www.pixelstalk.net/wp-content/uploads/2016/04/Golden-retriever-dogs-high-definition-wallpapers.jpg\n",
            "[%] File Downloaded !\n",
            "\n",
            "[%] Downloading Image #17 from http://www.cutenessoverflow.com/wp-content/uploads/2014/06/adorable-dogs-8.jpg\n",
            "[%] File Downloaded !\n",
            "\n",
            "[%] Downloading Image #18 from https://www.101dogbreeds.com/wp-content/uploads/2017/11/Sato-Dogs.jpg\n",
            "[%] File Downloaded !\n",
            "\n",
            "[%] Downloading Image #19 from https://acdn.list25.com/wp-content/uploads/2017/06/24.jpg\n",
            "[!] Issue getting: https://acdn.list25.com/wp-content/uploads/2017/06/24.jpg\n",
            "[!] Error:: <urlopen error [SSL: CERTIFICATE_VERIFY_FAILED] certificate verify failed (_ssl.c:852)>\n",
            "[%] Downloading Image #19 from http://i.huffpost.com/gen/1171894/images/o-ABANDONED-EVERGLADES-DOGS-facebook.jpg\n",
            "[%] File Downloaded !\n",
            "\n",
            "[%] Downloading Image #20 from http://r.ddmcdn.com/s_f/o_1/w_682/h_1024/APL/uploads/2014/12/pets-dogs.jpg\n",
            "[%] File Downloaded !\n",
            "\n",
            "[%] Downloading Image #21 from http://dailynous.com/wp-content/uploads/2019/06/cute-dog-project-dogs-crop.png\n",
            "[%] File Downloaded !\n",
            "\n",
            "[%] Downloading Image #22 from http://www.pethealthnetwork.com/sites/default/files/content/images/can-dogs-have-narcolepsy-fb-153367150.jpg\n",
            "[%] File Downloaded !\n",
            "\n",
            "[%] Downloading Image #23 from https://cdn1.medicalnewstoday.com/content/images/hero/326/326253/326253_1100.jpg\n",
            "[!] Issue getting: https://cdn1.medicalnewstoday.com/content/images/hero/326/326253/326253_1100.jpg\n",
            "[!] Error:: <urlopen error [Errno -2] Name or service not known>\n",
            "[%] Downloading Image #23 from https://images.flickdirect.com/movies/dogs-purpose/dogs-purpose-box-art.jpg\n",
            "[Error]Invalid image, not saving https://images.flickdirect.com/movies/dogs-purpose/dogs-purpose-box-art.jpg\n",
            "\n",
            "[!] Issue getting: https://images.flickdirect.com/movies/dogs-purpose/dogs-purpose-box-art.jpg\n",
            "[!] Error:: No active exception to reraise\n",
            "[%] Downloading Image #23 from https://bigfluffydogs.com/wp-content/uploads/2017/12/Maraschina-1a.jpg\n",
            "[%] File Downloaded !\n",
            "\n",
            "[%] Downloading Image #24 from http://media.cntraveler.com/photos/5790e075c50d00c85ca6e57a/master/pass/dogs-instagram-chloe-frenchie-cr-courtesy.jpg\n",
            "[%] File Downloaded !\n",
            "\n",
            "[%] Downloading Image #25 from https://www.pethealthnetwork.com/sites/default/files/content/images/bloat-dogs-156938392.png\n",
            "[%] File Downloaded !\n",
            "\n",
            "[%] Downloading Image #26 from https://www.telegraph.co.uk/content/dam/Pets/spark/royal-canin/rc-7_dogs-xlarge.jpg?imwidth=1200\n",
            "[%] File Downloaded !\n",
            "\n",
            "[%] Downloading Image #27 from https://www.demilked.com/magazine/wp-content/uploads/2017/04/under-dogs-photography-andrius-burba-14.jpg\n",
            "[%] File Downloaded !\n",
            "\n",
            "[%] Downloading Image #28 from https://bigfluffydogs.com/wp-content/uploads/2019/01/Ginger-1.jpg\n",
            "[%] File Downloaded !\n",
            "\n",
            "[%] Downloading Image #29 from https://bigfluffydogs.com/wp-content/uploads/2018/09/Tasha-2-1.jpg\n",
            "[%] File Downloaded !\n",
            "\n",
            "[%] Downloading Image #30 from https://www.petpaw.com.au/wp-content/uploads/2013/02/Dachshund1.jpg\n",
            "[%] File Downloaded !\n",
            "\n",
            "[%] Downloading Image #31 from https://www.thejc.com/image/policy:1.486443:1562942944/Dogs.jpg?f=16x9&amp;h=576&amp;w=1024&amp;$p$f$h$w=aa3fae8\n",
            "[%] File Downloaded !\n",
            "\n",
            "[%] Downloading Image #32 from https://post.medicalnewstoday.com/wp-content/uploads/sites/3/2020/02/322868_1100-1100x628.jpg\n",
            "[%] File Downloaded !\n",
            "\n",
            "[%] Downloading Image #33 from https://www.dogvills.com/wp-content/uploads/2015/04/yorkshire-terrier-messy-small-hypoallergenic-dogs-699x1024.jpg\n",
            "[%] File Downloaded !\n",
            "\n",
            "[%] Downloading Image #34 from https://www.rover.com/blog/wp-content/uploads/2015/09/5541603212_8eca6102c5_b.jpg\n",
            "[%] File Downloaded !\n",
            "\n",
            "[%] Downloading Image #35 from https://www.nationaltrust.org.uk/images/1431730256107-dogspolesdenlacey.jpg\n",
            "[%] File Downloaded !\n",
            "\n",
            "[%] Downloading Image #36 from https://www.goodthingsguy.com/wp-content/uploads/2017/11/elderly-dogs.jpg\n",
            "[%] File Downloaded !\n",
            "\n",
            "\n",
            "\n",
            "[!!]Indexing page: 2\n",
            "\n",
            "[%] Indexed 35 Images on Page 2.\n",
            "\n",
            "===============================================\n",
            "\n",
            "[%] Downloading Image #37 from https://bigfluffydogs.com/wp-content/uploads/2018/03/Owen-1.jpg\n",
            "[%] File Downloaded !\n",
            "\n",
            "[%] Downloading Image #38 from https://cdn01.vulcanpost.com/wp-uploads/2014/03/IMG_5908.jpg\n",
            "[%] File Downloaded !\n",
            "\n",
            "[%] Downloading Image #39 from https://bigfluffydogs.com/wp-content/uploads/2017/12/Clyde-3.jpg\n",
            "[%] File Downloaded !\n",
            "\n",
            "[%] Downloading Image #40 from https://www.rover.com/blog/wp-content/uploads/2014/12/reindeer-dogs.jpg\n",
            "[%] File Downloaded !\n",
            "\n",
            "[%] Downloading Image #41 from https://abbeyrosefoundation.org/wp-content/uploads/2013/02/Golden-Retriever.jpg\n",
            "[%] File Downloaded !\n",
            "\n",
            "\n",
            "\n",
            "[%] Done. Downloaded 41 images.\n",
            "\n",
            "===============================================\n",
            "\n"
          ],
          "name": "stdout"
        }
      ]
    },
    {
      "cell_type": "code",
      "metadata": {
        "id": "fbdWWIl-iSxz",
        "outputId": "7e004ac1-5ed6-4d63-fe5d-00e8ca0e26d7",
        "colab": {
          "base_uri": "https://localhost:8080/",
          "height": 34
        }
      },
      "source": [
        "import numpy as np\n",
        "from keras.preprocessing import image\n",
        "import cv2 as cv\n",
        "import matplotlib.pyplot as plt\n",
        "from pathlib import Path\n",
        "from sklearn.model_selection import GridSearchCV, train_test_split\n",
        "from skimage.io import imread\n",
        "print(\"Files imported successfully\")\n",
        "import pandas as pd\n",
        "import warnings\n",
        "warnings.filterwarnings('ignore')\n",
        "pd.set_option('display.max_columns', 30*30 + 1)"
      ],
      "execution_count": 6,
      "outputs": [
        {
          "output_type": "stream",
          "text": [
            "Files imported successfully\n"
          ],
          "name": "stdout"
        }
      ]
    },
    {
      "cell_type": "code",
      "metadata": {
        "id": "hkbpBBlhiX4k",
        "outputId": "dfbf5d9f-aab0-47c5-9f14-2fa891dd9871",
        "colab": {
          "base_uri": "https://localhost:8080/",
          "height": 218
        }
      },
      "source": [
        "def load_image_files(container_path, dimension=(64, 64)):\n",
        "    image_dir = Path(container_path)\n",
        "    folders = [directory for directory in image_dir.iterdir() if directory.is_dir()]\n",
        "    categories = [fo.name for fo in folders]\n",
        "\n",
        "    descr = \"A image classification dataset\"\n",
        "    images = []\n",
        "    flat_data = []\n",
        "    target = []\n",
        "    count = 0\n",
        "    train_img = []\n",
        "    for i, direc in enumerate(folders):\n",
        "        for file in direc.iterdir():\n",
        "            count += 1\n",
        "            img = imread(file)\n",
        "            img = cv.cvtColor(img, cv.COLOR_BGR2GRAY)\n",
        "            img_pred = cv.resize(img, (50, 50), interpolation=cv.INTER_AREA)\n",
        "            img_pred = image.img_to_array(img_pred)\n",
        "            img_pred = img_pred / 255\n",
        "            train_img.append(img_pred)\n",
        "\n",
        "    X = np.array(train_img)\n",
        "\n",
        "    return X\n",
        "\n",
        "X = []\n",
        "X = load_image_files(\"/content/images\")\n",
        "\n",
        "y0 = np.zeros(40)\n",
        "#2000 is the number of Cats in X\n",
        "y1 = np.ones(41)\n",
        "#2134 is the number of Dogs in X\n",
        "y = []\n",
        "y = np.concatenate((y0,y1), axis=0)\n",
        "X_train, X_test, y_train, y_test = train_test_split(X, y, random_state=0, test_size=0.2)\n",
        "X_val, X_test, y_val, y_test = train_test_split(X_test, y_test, random_state=0, test_size=0.5)\n",
        "print(\"X_train: \"+str(X_train.shape))\n",
        "print(\"X_test: \"+str(X_test.shape))\n",
        "print(\"X_val: \"+str(X_val.shape))\n",
        "print(\"y_train: \"+str(y_train.shape))\n",
        "print(\"y_test: \"+str(y_test.shape))\n",
        "print(\"y_val: \"+str(y_val.shape))\n",
        "\n",
        "from builtins import range\n",
        "from builtins import object\n",
        "\n",
        "num_training = X_train.shape[0]\n",
        "mask = list(range(num_training))\n",
        "X_train = X_train[mask]\n",
        "y_train = y_train[mask]\n",
        "\n",
        "num_test = X_test.shape[0]\n",
        "mask = list(range(num_test))\n",
        "X_test = X_test[mask]\n",
        "y_test = y_test[mask]\n",
        "\n",
        "num_val = X_val.shape[0]\n",
        "mask = list(range(num_val))\n",
        "X_val = X_val[mask]\n",
        "y_val = y_val[mask]\n",
        "\n",
        "# Reshape the image data into rows\n",
        "X_train = np.reshape(X_train, (X_train.shape[0], -1))\n",
        "X_test = np.reshape(X_test, (X_test.shape[0], -1))\n",
        "X_val = np.reshape(X_val, (X_val.shape[0], -1))\n",
        "\n",
        "print(\"X_train: \"+str(X_train.shape))\n",
        "print(\"X_test: \"+str(X_test.shape))\n",
        "print(\"X_val: \"+str(X_val.shape))\n",
        "print(\"y_train: \"+str(y_train.shape))\n",
        "print(\"y_test: \"+str(y_test.shape))\n",
        "print(\"y_val: \"+str(y_val.shape))"
      ],
      "execution_count": 9,
      "outputs": [
        {
          "output_type": "stream",
          "text": [
            "X_train: (64, 50, 50, 1)\n",
            "X_test: (9, 50, 50, 1)\n",
            "X_val: (8, 50, 50, 1)\n",
            "y_train: (64,)\n",
            "y_test: (9,)\n",
            "y_val: (8,)\n",
            "X_train: (64, 2500)\n",
            "X_test: (9, 2500)\n",
            "X_val: (8, 2500)\n",
            "y_train: (64,)\n",
            "y_test: (9,)\n",
            "y_val: (8,)\n"
          ],
          "name": "stdout"
        }
      ]
    },
    {
      "cell_type": "code",
      "metadata": {
        "id": "dNiXTluSijjC"
      },
      "source": [
        "class KNearestNeighbor(object):\n",
        "    def __init__(self):\n",
        "        pass\n",
        "\n",
        "    def predict_label(self, dists, k=1):\n",
        "        num_test = dists.shape[0]\n",
        "        y_pred = np.zeros(num_test)\n",
        "        for i in range(num_test):\n",
        "            closest_y = []\n",
        "            closest_y = self.y_train[np.argsort(dists[i])][0:k]\n",
        "            y_pred[i] = np.bincount(closest_y).argmax()\n",
        "        return y_pred\n",
        "\n",
        "    def train(self, X, y):\n",
        "        self.X_train = X\n",
        "        self.y_train = y\n",
        "\n",
        "    def predict(self, X, k=1):\n",
        "        dists = self.compute_distances_no_loops(X)\n",
        "\n",
        "        return self.predict_labels(dists, k=k)\n",
        "\n",
        "    def compute_distances_no_loops(self, X):\n",
        "        num_test = X.shape[0]\n",
        "        num_train = self.X_train.shape[0]\n",
        "        dists = np.zeros((num_test, num_train))\n",
        "        dists = np.sqrt((X ** 2).sum(axis=1, keepdims=1) + (self.X_train ** 2).sum(axis=1) - 2 * X.dot(self.X_train.T))\n",
        "\n",
        "        return dists\n",
        "\n",
        "    def predict_labels(self, dists, k=1):\n",
        "        num_test = dists.shape[0]\n",
        "        y_pred = np.zeros(num_test)\n",
        "        for i in range(num_test):\n",
        "            closest_y = []\n",
        "            closest_y = self.y_train[np.argsort(dists[i])][0:k]\n",
        "            closest_y = closest_y.astype(int)\n",
        "            y_pred[i] = np.bincount(closest_y).argmax()\n",
        "        return y_pred"
      ],
      "execution_count": 10,
      "outputs": []
    },
    {
      "cell_type": "code",
      "metadata": {
        "id": "lWjX1AVpi59j",
        "outputId": "5238049c-6ff8-4761-83f6-b00b342c52b4",
        "colab": {
          "base_uri": "https://localhost:8080/",
          "height": 50
        }
      },
      "source": [
        "print(\"Val Accuracy for k=2\")\n",
        "classifier = KNearestNeighbor()\n",
        "classifier.train(X_train, y_train)\n",
        "dists = classifier.compute_distances_no_loops(X_val)\n",
        "y_val_pred = classifier.predict_labels(dists, k=2)\n",
        "num_correct = np.sum(y_val_pred == y_val)\n",
        "accuracy = float(num_correct) / num_val\n",
        "print('Got %d / %d correct => accuracy: %f' % (num_correct, num_val, accuracy))"
      ],
      "execution_count": 11,
      "outputs": [
        {
          "output_type": "stream",
          "text": [
            "Val Accuracy for k=2\n",
            "Got 5 / 8 correct => accuracy: 0.625000\n"
          ],
          "name": "stdout"
        }
      ]
    },
    {
      "cell_type": "code",
      "metadata": {
        "id": "euIgUAdNi_E5",
        "outputId": "744dfd01-78c2-46a9-b104-af97ed88454a",
        "colab": {
          "base_uri": "https://localhost:8080/",
          "height": 298
        }
      },
      "source": [
        "print(\"Using SKLEARN\")\n",
        "lix = []\n",
        "liy = []\n",
        "index=0\n",
        "acc=0\n",
        "from sklearn.neighbors import KNeighborsClassifier\n",
        "for k in range(1, 37):\n",
        "    neigh = KNeighborsClassifier(n_neighbors=k)\n",
        "    neigh.fit(X_train, y_train)\n",
        "    liy.append(neigh.score(X_val, y_val))\n",
        "    if liy[k-1]>acc:\n",
        "        acc=liy[k-1]\n",
        "        index=k-1\n",
        "    lix.append(k)\n",
        "\n",
        "plt.plot(lix, liy)\n",
        "plt.show()\n",
        "print(\"max acc at k=\"+str(index+1)+\" acc of \"+str(acc))"
      ],
      "execution_count": 12,
      "outputs": [
        {
          "output_type": "stream",
          "text": [
            "Using SKLEARN\n"
          ],
          "name": "stdout"
        },
        {
          "output_type": "display_data",
          "data": {
            "image/png": "[encoded data removed]",
            "text/plain": [
              "<Figure size 432x288 with 1 Axes>"
            ]
          },
          "metadata": {
            "tags": [],
            "needs_background": "light"
          }
        },
        {
          "output_type": "stream",
          "text": [
            "max acc at k=2 acc of 0.625\n"
          ],
          "name": "stdout"
        }
      ]
    },
    {
      "cell_type": "code",
      "metadata": {
        "id": "oLYcg5cdjD4B",
        "outputId": "08111889-3ea2-4e81-c7db-902baf5b8e90",
        "colab": {
          "base_uri": "https://localhost:8080/",
          "height": 67
        }
      },
      "source": [
        "neigh = KNeighborsClassifier(n_neighbors=1)\n",
        "neigh.fit(X_train, y_train)\n",
        "print(\"Test Accuracy: \"+str(neigh.score(X_test, y_test)))\n",
        "\n",
        "print(\"Using our own k-NN\")\n",
        "classifier = KNearestNeighbor()\n",
        "classifier.train(X_train, y_train)\n",
        "dists = classifier.compute_distances_no_loops(X_test)\n",
        "y_test_pred = classifier.predict_labels(dists, k=2)\n",
        "num_correct = np.sum(y_test_pred == y_test)\n",
        "accuracy = float(num_correct) / num_test\n",
        "print('With k = 1 Got %d / %d correct => accuracy: %f' % (num_correct, num_test, accuracy))"
      ],
      "execution_count": 25,
      "outputs": [
        {
          "output_type": "stream",
          "text": [
            "Test Accuracy: 0.5555555555555556\n",
            "Using our own k-NN\n",
            "With k = 1 Got 6 / 9 correct => accuracy: 0.666667\n"
          ],
          "name": "stdout"
        }
      ]
    },
    {
      "cell_type": "code",
      "metadata": {
        "id": "5MPIuxjZjKUF",
        "outputId": "2b506c0b-0c8a-49dc-89ae-5b4f5eb54e8e",
        "colab": {
          "base_uri": "https://localhost:8080/",
          "height": 50
        }
      },
      "source": [
        "print(\"Predicting custom image: 1\")\n",
        "img = cv.imread(\"/content/images/cat1.jpg\")\n",
        "img = cv.cvtColor(img, cv.COLOR_BGR2GRAY)\n",
        "img_pred = cv.resize(img, (50, 50), interpolation=cv.INTER_AREA)\n",
        "img_pred = image.img_to_array(img_pred)\n",
        "img_pred = img_pred/255\n",
        "img_pred = np.reshape(img_pred, (1, img_pred.shape[0]*img_pred.shape[1]))\n",
        "\n",
        "classifier2 = KNearestNeighbor()\n",
        "classifier2.train(X_train, y_train)\n",
        "# Test implementation:\n",
        "dists2 = classifier2.compute_distances_no_loops(img_pred)\n",
        "labels = [\"Cat\", \"Dog\"]\n",
        "y_test_pred = classifier2.predict_labels(dists2, k=2)\n",
        "print(labels[int(y_test_pred)])"
      ],
      "execution_count": 19,
      "outputs": [
        {
          "output_type": "stream",
          "text": [
            "Predicting custom image: 1\n",
            "Cat\n"
          ],
          "name": "stdout"
        }
      ]
    },
    {
      "cell_type": "code",
      "metadata": {
        "id": "pO-GE-B4jb_C",
        "outputId": "4a573e99-9292-49a0-9d49-d91832f8c274",
        "colab": {
          "base_uri": "https://localhost:8080/",
          "height": 50
        }
      },
      "source": [
        "print(\"Predicting custom image: 2\")\n",
        "img = cv.imread(\"/content/images/cat2.jpg\")\n",
        "img = cv.cvtColor(img, cv.COLOR_BGR2GRAY)\n",
        "img_pred = cv.resize(img, (50, 50), interpolation=cv.INTER_AREA)\n",
        "img_pred = image.img_to_array(img_pred)\n",
        "img_pred = img_pred/255\n",
        "img_pred = np.reshape(img_pred, (1, img_pred.shape[0]*img_pred.shape[1]))\n",
        "\n",
        "classifier2 = KNearestNeighbor()\n",
        "classifier2.train(X_train, y_train)\n",
        "# Test implementation:\n",
        "dists2 = classifier2.compute_distances_no_loops(img_pred)\n",
        "labels = [\"Cat\", \"Dog\"]\n",
        "y_test_pred = classifier2.predict_labels(dists2, k=2)\n",
        "print(labels[int(y_test_pred)])"
      ],
      "execution_count": 20,
      "outputs": [
        {
          "output_type": "stream",
          "text": [
            "Predicting custom image: 2\n",
            "Cat\n"
          ],
          "name": "stdout"
        }
      ]
    },
    {
      "cell_type": "code",
      "metadata": {
        "id": "HyScMrjvjkRy",
        "outputId": "eaccbb77-faaf-4ef4-d53f-b157c0bf5629",
        "colab": {
          "base_uri": "https://localhost:8080/",
          "height": 50
        }
      },
      "source": [
        "print(\"Predicting custom image: 3\")\n",
        "img = cv.imread(\"/content/images/dog1.jpg\")\n",
        "img = cv.cvtColor(img, cv.COLOR_BGR2GRAY)\n",
        "img_pred = cv.resize(img, (50, 50), interpolation=cv.INTER_AREA)\n",
        "img_pred = image.img_to_array(img_pred)\n",
        "img_pred = img_pred/255\n",
        "img_pred = np.reshape(img_pred, (1, img_pred.shape[0]*img_pred.shape[1]))\n",
        "\n",
        "classifier2 = KNearestNeighbor()\n",
        "classifier2.train(X_train, y_train)\n",
        "# Test your implementation:\n",
        "dists2 = classifier2.compute_distances_no_loops(img_pred)\n",
        "labels = [\"Cat\", \"Dog\"]\n",
        "y_test_pred = classifier2.predict_labels(dists2, k=2)\n",
        "print(labels[int(y_test_pred)])"
      ],
      "execution_count": 21,
      "outputs": [
        {
          "output_type": "stream",
          "text": [
            "Predicting custom image: 3\n",
            "Cat\n"
          ],
          "name": "stdout"
        }
      ]
    },
    {
      "cell_type": "code",
      "metadata": {
        "id": "Y-z6c8cxjraJ",
        "outputId": "87a9b813-679d-4d8d-f758-7e545287a95a",
        "colab": {
          "base_uri": "https://localhost:8080/",
          "height": 50
        }
      },
      "source": [
        "print(\"Predicting custom image: 4\")\n",
        "img = cv.imread(\"/content/images/dog2.jpg\")\n",
        "img = cv.cvtColor(img, cv.COLOR_BGR2GRAY)\n",
        "img_pred = cv.resize(img, (50, 50), interpolation=cv.INTER_AREA)\n",
        "img_pred = image.img_to_array(img_pred)\n",
        "img_pred = img_pred/255\n",
        "img_pred = np.reshape(img_pred, (1, img_pred.shape[0]*img_pred.shape[1]))\n",
        "\n",
        "classifier2 = KNearestNeighbor()\n",
        "classifier2.train(X_train, y_train)\n",
        "# Test your implementation:\n",
        "dists2 = classifier2.compute_distances_no_loops(img_pred)\n",
        "labels = [\"Cat\", \"Dog\"]\n",
        "y_test_pred = classifier2.predict_labels(dists2, k=2)\n",
        "print(labels[int(y_test_pred)])"
      ],
      "execution_count": 22,
      "outputs": [
        {
          "output_type": "stream",
          "text": [
            "Predicting custom image: 4\n",
            "Cat\n"
          ],
          "name": "stdout"
        }
      ]
    },
    {
      "cell_type": "code",
      "metadata": {
        "id": "fwbgJk-xkETG",
        "outputId": "b07591a1-1241-4a18-ac4b-36f8a1ad94c8",
        "colab": {
          "base_uri": "https://localhost:8080/",
          "height": 50
        }
      },
      "source": [
        "print(\"Predicting custom image: 5\")\n",
        "img = cv.imread(\"/content/images/dog3.jpg\")\n",
        "img = cv.cvtColor(img, cv.COLOR_BGR2GRAY)\n",
        "img_pred = cv.resize(img, (50, 50), interpolation=cv.INTER_AREA)\n",
        "img_pred = image.img_to_array(img_pred)\n",
        "img_pred = img_pred/255\n",
        "img_pred = np.reshape(img_pred, (1, img_pred.shape[0]*img_pred.shape[1]))\n",
        "\n",
        "classifier2 = KNearestNeighbor()\n",
        "classifier2.train(X_train, y_train)\n",
        "# Test your implementation:\n",
        "dists2 = classifier2.compute_distances_no_loops(img_pred)\n",
        "labels = [\"Cat\", \"Dog\"]\n",
        "y_test_pred = classifier2.predict_labels(dists2, k=2)\n",
        "print(labels[int(y_test_pred)])"
      ],
      "execution_count": 29,
      "outputs": [
        {
          "output_type": "stream",
          "text": [
            "Predicting custom image: 5\n",
            "Dog\n"
          ],
          "name": "stdout"
        }
      ]
    },
    {
      "cell_type": "code",
      "metadata": {
        "id": "d2GkMdsTk6nd"
      },
      "source": [
        "# I got 3 correct predictions out of 5"
      ],
      "execution_count": null,
      "outputs": []
    }
  ]
}